{
 "cells": [
  {
   "cell_type": "markdown",
   "id": "b367ec06",
   "metadata": {},
   "source": [
    "Named Entit recognition"
   ]
  },
  {
   "cell_type": "code",
   "execution_count": 2,
   "id": "de523085",
   "metadata": {},
   "outputs": [],
   "source": [
    "import spacy\n",
    "from nltk import sent_tokenize"
   ]
  },
  {
   "cell_type": "code",
   "execution_count": null,
   "id": "887d664a",
   "metadata": {},
   "outputs": [],
   "source": [
    "!python -m spacy download en_core_web_trf"
   ]
  },
  {
   "cell_type": "code",
   "execution_count": null,
   "id": "7b3a1432",
   "metadata": {},
   "outputs": [],
   "source": [
    "pip install spacy[transformers]\n"
   ]
  },
  {
   "cell_type": "markdown",
   "id": "3294bc54",
   "metadata": {},
   "source": [
    "Load model"
   ]
  },
  {
   "cell_type": "code",
   "execution_count": 4,
   "id": "b266c8d6",
   "metadata": {},
   "outputs": [],
   "source": [
    "def load_model():\n",
    "    nlp = spacy.load(\"en_core_web_trf\")\n",
    "    return nlp"
   ]
  },
  {
   "cell_type": "code",
   "execution_count": 5,
   "id": "739519d9",
   "metadata": {},
   "outputs": [
    {
     "name": "stderr",
     "output_type": "stream",
     "text": [
      "c:\\Users\\anubh\\AppData\\Local\\Programs\\Python\\Python313\\Scripts\\Learning\\TV Series Analysis System\\env\\Lib\\site-packages\\tqdm\\auto.py:21: TqdmWarning: IProgress not found. Please update jupyter and ipywidgets. See https://ipywidgets.readthedocs.io/en/stable/user_install.html\n",
      "  from .autonotebook import tqdm as notebook_tqdm\n"
     ]
    }
   ],
   "source": [
    "nlp_model = load_model()"
   ]
  },
  {
   "cell_type": "markdown",
   "id": "0dfba3e6",
   "metadata": {},
   "source": [
    "load Dataset"
   ]
  },
  {
   "cell_type": "code",
   "execution_count": 18,
   "id": "83845cbb",
   "metadata": {},
   "outputs": [
    {
     "ename": "ImportError",
     "evalue": "cannot import name 'load_subtitles_datasetnew' from 'utils' (c:\\Users\\anubh\\AppData\\Local\\Programs\\Python\\Python313\\Scripts\\Learning\\TV Series Analysis System\\env\\utils.py)",
     "output_type": "error",
     "traceback": [
      "\u001b[31m---------------------------------------------------------------------------\u001b[39m",
      "\u001b[31mImportError\u001b[39m                               Traceback (most recent call last)",
      "\u001b[36mCell\u001b[39m\u001b[36m \u001b[39m\u001b[32mIn[18]\u001b[39m\u001b[32m, line 6\u001b[39m\n\u001b[32m      4\u001b[39m folder_path = pathlib.Path().parent.resolve()\n\u001b[32m      5\u001b[39m sys.path.append(os.path.join(folder_path, \u001b[33m'\u001b[39m\u001b[33m../\u001b[39m\u001b[33m'\u001b[39m))\n\u001b[32m----> \u001b[39m\u001b[32m6\u001b[39m \u001b[38;5;28;01mfrom\u001b[39;00m\u001b[38;5;250m \u001b[39m\u001b[34;01mutils\u001b[39;00m\u001b[38;5;250m \u001b[39m\u001b[38;5;28;01mimport\u001b[39;00m load_subtitles_datasetnew\n",
      "\u001b[31mImportError\u001b[39m: cannot import name 'load_subtitles_datasetnew' from 'utils' (c:\\Users\\anubh\\AppData\\Local\\Programs\\Python\\Python313\\Scripts\\Learning\\TV Series Analysis System\\env\\utils.py)"
     ]
    }
   ],
   "source": [
    "import os \n",
    "import sys\n",
    "import pathlib\n",
    "folder_path = pathlib.Path().parent.resolve()\n",
    "sys.path.append(os.path.join(folder_path, '../'))\n",
    "from utils import load_subtitles_datasetnew"
   ]
  },
  {
   "cell_type": "code",
   "execution_count": 19,
   "id": "47624ff8",
   "metadata": {},
   "outputs": [
    {
     "ename": "NameError",
     "evalue": "name 'load_subtitles_datasetnew' is not defined",
     "output_type": "error",
     "traceback": [
      "\u001b[31m---------------------------------------------------------------------------\u001b[39m",
      "\u001b[31mNameError\u001b[39m                                 Traceback (most recent call last)",
      "\u001b[36mCell\u001b[39m\u001b[36m \u001b[39m\u001b[32mIn[19]\u001b[39m\u001b[32m, line 2\u001b[39m\n\u001b[32m      1\u001b[39m dataset_path = \u001b[33m\"\u001b[39m\u001b[33m../data/Subtitles/\u001b[39m\u001b[33m\"\u001b[39m\n\u001b[32m----> \u001b[39m\u001b[32m2\u001b[39m df = \u001b[43mload_subtitles_datasetnew\u001b[49m(dataset_path)\n",
      "\u001b[31mNameError\u001b[39m: name 'load_subtitles_datasetnew' is not defined"
     ]
    }
   ],
   "source": [
    "dataset_path = \"../data/Subtitles/\"\n",
    "df = load_subtitles_datasetnew(dataset_path)"
   ]
  },
  {
   "cell_type": "code",
   "execution_count": null,
   "id": "b1e51bb9",
   "metadata": {},
   "outputs": [],
   "source": []
  },
  {
   "cell_type": "code",
   "execution_count": null,
   "id": "a12128c2",
   "metadata": {},
   "outputs": [],
   "source": []
  }
 ],
 "metadata": {
  "kernelspec": {
   "display_name": "env",
   "language": "python",
   "name": "python3"
  },
  "language_info": {
   "codemirror_mode": {
    "name": "ipython",
    "version": 3
   },
   "file_extension": ".py",
   "mimetype": "text/x-python",
   "name": "python",
   "nbconvert_exporter": "python",
   "pygments_lexer": "ipython3",
   "version": "3.12.6"
  }
 },
 "nbformat": 4,
 "nbformat_minor": 5
}
